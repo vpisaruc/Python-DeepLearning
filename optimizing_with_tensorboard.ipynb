{
  "nbformat": 4,
  "nbformat_minor": 0,
  "metadata": {
    "colab": {
      "name": "optimizing_with_tensorboard.ipynb",
      "version": "0.3.2",
      "provenance": [],
      "collapsed_sections": []
    },
    "kernelspec": {
      "name": "python3",
      "display_name": "Python 3"
    },
    "accelerator": "GPU"
  },
  "cells": [
    {
      "cell_type": "code",
      "metadata": {
        "id": "N0iwWUDuI5nf",
        "colab_type": "code",
        "outputId": "5f4e1cdf-a0ed-4061-8b3e-381f6fac115c",
        "colab": {
          "base_uri": "https://localhost:8080/",
          "height": 400
        }
      },
      "source": [
        "!pip install tensorflow-gpu"
      ],
      "execution_count": 0,
      "outputs": [
        {
          "output_type": "stream",
          "text": [
            "Requirement already satisfied: tensorflow-gpu in /usr/local/lib/python3.6/dist-packages (1.14.0)\n",
            "Requirement already satisfied: absl-py>=0.7.0 in /usr/local/lib/python3.6/dist-packages (from tensorflow-gpu) (0.7.1)\n",
            "Requirement already satisfied: gast>=0.2.0 in /usr/local/lib/python3.6/dist-packages (from tensorflow-gpu) (0.2.2)\n",
            "Requirement already satisfied: google-pasta>=0.1.6 in /usr/local/lib/python3.6/dist-packages (from tensorflow-gpu) (0.1.7)\n",
            "Requirement already satisfied: wheel>=0.26 in /usr/local/lib/python3.6/dist-packages (from tensorflow-gpu) (0.33.4)\n",
            "Requirement already satisfied: termcolor>=1.1.0 in /usr/local/lib/python3.6/dist-packages (from tensorflow-gpu) (1.1.0)\n",
            "Requirement already satisfied: astor>=0.6.0 in /usr/local/lib/python3.6/dist-packages (from tensorflow-gpu) (0.8.0)\n",
            "Requirement already satisfied: numpy<2.0,>=1.14.5 in /usr/local/lib/python3.6/dist-packages (from tensorflow-gpu) (1.16.4)\n",
            "Requirement already satisfied: tensorboard<1.15.0,>=1.14.0 in /usr/local/lib/python3.6/dist-packages (from tensorflow-gpu) (1.14.0)\n",
            "Requirement already satisfied: tensorflow-estimator<1.15.0rc0,>=1.14.0rc0 in /usr/local/lib/python3.6/dist-packages (from tensorflow-gpu) (1.14.0)\n",
            "Requirement already satisfied: grpcio>=1.8.6 in /usr/local/lib/python3.6/dist-packages (from tensorflow-gpu) (1.15.0)\n",
            "Requirement already satisfied: six>=1.10.0 in /usr/local/lib/python3.6/dist-packages (from tensorflow-gpu) (1.12.0)\n",
            "Requirement already satisfied: keras-preprocessing>=1.0.5 in /usr/local/lib/python3.6/dist-packages (from tensorflow-gpu) (1.1.0)\n",
            "Requirement already satisfied: keras-applications>=1.0.6 in /usr/local/lib/python3.6/dist-packages (from tensorflow-gpu) (1.0.8)\n",
            "Requirement already satisfied: protobuf>=3.6.1 in /usr/local/lib/python3.6/dist-packages (from tensorflow-gpu) (3.7.1)\n",
            "Requirement already satisfied: wrapt>=1.11.1 in /usr/local/lib/python3.6/dist-packages (from tensorflow-gpu) (1.11.2)\n",
            "Requirement already satisfied: setuptools>=41.0.0 in /usr/local/lib/python3.6/dist-packages (from tensorboard<1.15.0,>=1.14.0->tensorflow-gpu) (41.0.1)\n",
            "Requirement already satisfied: werkzeug>=0.11.15 in /usr/local/lib/python3.6/dist-packages (from tensorboard<1.15.0,>=1.14.0->tensorflow-gpu) (0.15.5)\n",
            "Requirement already satisfied: markdown>=2.6.8 in /usr/local/lib/python3.6/dist-packages (from tensorboard<1.15.0,>=1.14.0->tensorflow-gpu) (3.1.1)\n",
            "Requirement already satisfied: h5py in /usr/local/lib/python3.6/dist-packages (from keras-applications>=1.0.6->tensorflow-gpu) (2.8.0)\n"
          ],
          "name": "stdout"
        }
      ]
    },
    {
      "cell_type": "code",
      "metadata": {
        "id": "2Lj8dlH_JAAg",
        "colab_type": "code",
        "outputId": "04294260-c2a9-4e6e-8580-76a368a3e9d6",
        "colab": {
          "base_uri": "https://localhost:8080/",
          "height": 55
        }
      },
      "source": [
        "from google.colab import drive\n",
        "drive.mount('/content/drive')"
      ],
      "execution_count": 0,
      "outputs": [
        {
          "output_type": "stream",
          "text": [
            "Drive already mounted at /content/drive; to attempt to forcibly remount, call drive.mount(\"/content/drive\", force_remount=True).\n"
          ],
          "name": "stdout"
        }
      ]
    },
    {
      "cell_type": "code",
      "metadata": {
        "id": "PFmO2YMPJEMH",
        "colab_type": "code",
        "colab": {}
      },
      "source": [
        "!cp drive/'My Drive'/'Colab Notebooks'/X.pickle .\n",
        "!cp drive/'My Drive'/'Colab Notebooks'/y.pickle ."
      ],
      "execution_count": 0,
      "outputs": []
    },
    {
      "cell_type": "code",
      "metadata": {
        "id": "dZZBkFgdJhM1",
        "colab_type": "code",
        "colab": {}
      },
      "source": [
        "import tensorflow as tf\n",
        "from tensorflow.keras.datasets import cifar10\n",
        "from tensorflow.keras.preprocessing.image import ImageDataGenerator\n",
        "from tensorflow.keras.models import Sequential\n",
        "from tensorflow.keras.layers import Dense, Dropout, Activation, Flatten\n",
        "from tensorflow.keras.layers import Conv2D, MaxPooling2D\n",
        "from tensorflow.keras.callbacks import TensorBoard\n",
        "import pickle\n",
        "import time\n",
        "\n",
        "\n",
        "\n",
        "# we separate memory for few sessions\n",
        "gpu_options = tf.GPUOptions(per_process_gpu_memory_fraction=0.333)\n",
        "sess = tf.Session(config=tf.ConfigProto(gpu_options=gpu_options))\n",
        "\n",
        "# load data from pickle files\n",
        "X = pickle.load(open('X.pickle', 'rb'))\n",
        "y = pickle.load(open('y.pickle', 'rb'))\n",
        "\n",
        "# normalize our data\n",
        "# 255 is maximum value for pixel data\n",
        "X = X / 255.0\n",
        "\n",
        "# here we start our optimization\n",
        "dense_layers = [0, 1, 2]\n",
        "layer_sizes = [32, 64, 128]\n",
        "conv_layers = [1, 2, 3]\n",
        "\n",
        "for dense_layer in dense_layers:\n",
        "  for layer_size in layer_sizes:\n",
        "    for conv_layer in conv_layers:\n",
        "      NAME = '{}-conv-{}-nodes-{}-dense-{}'.format(conv_layer, \n",
        "                                                   layer_size, \n",
        "                                                   dense_layer,\n",
        "                                                   int(time.time()))\n",
        "      tensorboard = TensorBoard(log_dir='logs/{}'.format(NAME))      \n",
        "\n",
        "      # initialize our model\n",
        "      model = Sequential()\n",
        "      # add layers to our model\n",
        "      model.add(Conv2D(layer_size, (3, 3), input_shape = X.shape[1:]))\n",
        "      model.add(Activation('relu'))\n",
        "      model.add(MaxPooling2D(pool_size=(2, 2)))\n",
        "      \n",
        "      for l in range(conv_layer - 1):\n",
        "        \n",
        "        model.add(Conv2D(layer_size, (3, 3)))\n",
        "        model.add(Activation('relu'))\n",
        "        model.add(MaxPooling2D(pool_size=(2, 2)))\n",
        "        \n",
        "      model.add(Flatten())  \n",
        "      for l in range(dense_layer):\n",
        "        model.add(Dense(layer_size))\n",
        "        model.add(Activation('relu'))\n",
        "\n",
        "\n",
        "\n",
        "      model.add(Dense(1))\n",
        "      model.add(Activation('sigmoid'))\n",
        "\n",
        "      model.compile(loss='binary_crossentropy',\n",
        "                   optimizer='adam',\n",
        "                   metrics=['accuracy'])\n",
        "\n",
        "      model.fit(X, y, batch_size=32, epochs=10, validation_split=0.3, callbacks=[tensorboard])"
      ],
      "execution_count": 0,
      "outputs": []
    },
    {
      "cell_type": "code",
      "metadata": {
        "id": "Z91jYf95JhFH",
        "colab_type": "code",
        "colab": {}
      },
      "source": [
        "LOG_DIR = '/content/logs'\n",
        "get_ipython().system_raw(\n",
        "    'tensorboard --logdir {} --host 0.0.0.0 --port 6006 &'\n",
        "    .format(LOG_DIR)\n",
        ")\n",
        "\n",
        "get_ipython().system_raw('./ngrok http 6006 &')"
      ],
      "execution_count": 0,
      "outputs": []
    },
    {
      "cell_type": "code",
      "metadata": {
        "id": "sYOKDF5uJhKc",
        "colab_type": "code",
        "outputId": "5cb51620-96a7-4dd4-8a6f-8ad6cf55c10b",
        "colab": {
          "base_uri": "https://localhost:8080/",
          "height": 35
        }
      },
      "source": [
        "! curl -s http://localhost:4040/api/tunnels | python3 -c \\\n",
        "    \"import sys, json; print(json.load(sys.stdin)['tunnels'][0]['public_url'])\""
      ],
      "execution_count": 21,
      "outputs": [
        {
          "output_type": "stream",
          "text": [
            "https://a6fff7ed.ngrok.io\n"
          ],
          "name": "stdout"
        }
      ]
    },
    {
      "cell_type": "code",
      "metadata": {
        "id": "lOKLgCvgJhIR",
        "colab_type": "code",
        "colab": {
          "base_uri": "https://localhost:8080/",
          "height": 1000
        },
        "outputId": "570feb97-6be7-4c3f-c085-3364bc83257e"
      },
      "source": [
        "!zip -r /content/file.zip /content/logs/\n",
        "from google.colab import files\n",
        "files.download(\"/content/file.zip\")"
      ],
      "execution_count": 22,
      "outputs": [
        {
          "output_type": "stream",
          "text": [
            "  adding: content/logs/ (stored 0%)\n",
            "  adding: content/logs/2-conv-128-nodes-1-dense-1565775345/ (stored 0%)\n",
            "  adding: content/logs/2-conv-128-nodes-1-dense-1565775345/events.out.tfevents.1565775346.0888da7e2f79 (deflated 90%)\n",
            "  adding: content/logs/2-conv-128-nodes-1-dense-1565775345/plugins/ (stored 0%)\n",
            "  adding: content/logs/2-conv-128-nodes-1-dense-1565775345/plugins/profile/ (stored 0%)\n",
            "  adding: content/logs/2-conv-128-nodes-1-dense-1565775345/plugins/profile/2019-08-14_09-35-48/ (stored 0%)\n",
            "  adding: content/logs/2-conv-128-nodes-1-dense-1565775345/plugins/profile/2019-08-14_09-35-48/local.trace (deflated 89%)\n",
            "  adding: content/logs/2-conv-128-nodes-1-dense-1565775345/events.out.tfevents.1565775348.0888da7e2f79.profile-empty (deflated 8%)\n",
            "  adding: content/logs/3-conv-64-nodes-2-dense-1565777265/ (stored 0%)\n",
            "  adding: content/logs/3-conv-64-nodes-2-dense-1565777265/events.out.tfevents.1565777269.0888da7e2f79.profile-empty (deflated 5%)\n",
            "  adding: content/logs/3-conv-64-nodes-2-dense-1565777265/events.out.tfevents.1565777267.0888da7e2f79 (deflated 90%)\n",
            "  adding: content/logs/3-conv-64-nodes-2-dense-1565777265/plugins/ (stored 0%)\n",
            "  adding: content/logs/3-conv-64-nodes-2-dense-1565777265/plugins/profile/ (stored 0%)\n",
            "  adding: content/logs/3-conv-64-nodes-2-dense-1565777265/plugins/profile/2019-08-14_10-07-49/ (stored 0%)\n",
            "  adding: content/logs/3-conv-64-nodes-2-dense-1565777265/plugins/profile/2019-08-14_10-07-49/local.trace (deflated 90%)\n",
            "  adding: content/logs/3-conv-64-nodes-0-dense-1565772138/ (stored 0%)\n",
            "  adding: content/logs/3-conv-64-nodes-0-dense-1565772138/events.out.tfevents.1565772139.0888da7e2f79 (deflated 89%)\n",
            "  adding: content/logs/3-conv-64-nodes-0-dense-1565772138/plugins/ (stored 0%)\n",
            "  adding: content/logs/3-conv-64-nodes-0-dense-1565772138/plugins/profile/ (stored 0%)\n",
            "  adding: content/logs/3-conv-64-nodes-0-dense-1565772138/plugins/profile/2019-08-14_08-42-20/ (stored 0%)\n",
            "  adding: content/logs/3-conv-64-nodes-0-dense-1565772138/plugins/profile/2019-08-14_08-42-20/local.trace (deflated 90%)\n",
            "  adding: content/logs/3-conv-64-nodes-0-dense-1565772138/events.out.tfevents.1565772140.0888da7e2f79.profile-empty (deflated 10%)\n",
            "  adding: content/logs/3-conv-128-nodes-0-dense-1565773199/ (stored 0%)\n",
            "  adding: content/logs/3-conv-128-nodes-0-dense-1565773199/events.out.tfevents.1565773200.0888da7e2f79 (deflated 89%)\n",
            "  adding: content/logs/3-conv-128-nodes-0-dense-1565773199/events.out.tfevents.1565773201.0888da7e2f79.profile-empty (deflated 5%)\n",
            "  adding: content/logs/3-conv-128-nodes-0-dense-1565773199/plugins/ (stored 0%)\n",
            "  adding: content/logs/3-conv-128-nodes-0-dense-1565773199/plugins/profile/ (stored 0%)\n",
            "  adding: content/logs/3-conv-128-nodes-0-dense-1565773199/plugins/profile/2019-08-14_09-00-01/ (stored 0%)\n",
            "  adding: content/logs/3-conv-128-nodes-0-dense-1565773199/plugins/profile/2019-08-14_09-00-01/local.trace (deflated 89%)\n",
            "  adding: content/logs/2-conv-32-nodes-1-dense-1565773844/ (stored 0%)\n",
            "  adding: content/logs/2-conv-32-nodes-1-dense-1565773844/events.out.tfevents.1565773845.0888da7e2f79 (deflated 89%)\n",
            "  adding: content/logs/2-conv-32-nodes-1-dense-1565773844/events.out.tfevents.1565773846.0888da7e2f79.profile-empty (deflated 5%)\n",
            "  adding: content/logs/2-conv-32-nodes-1-dense-1565773844/plugins/ (stored 0%)\n",
            "  adding: content/logs/2-conv-32-nodes-1-dense-1565773844/plugins/profile/ (stored 0%)\n",
            "  adding: content/logs/2-conv-32-nodes-1-dense-1565773844/plugins/profile/2019-08-14_09-10-46/ (stored 0%)\n",
            "  adding: content/logs/2-conv-32-nodes-1-dense-1565773844/plugins/profile/2019-08-14_09-10-46/local.trace (deflated 89%)\n",
            "  adding: content/logs/1-conv-64-nodes-0-dense-1565771722/ (stored 0%)\n",
            "  adding: content/logs/1-conv-64-nodes-0-dense-1565771722/events.out.tfevents.1565771722.0888da7e2f79 (deflated 89%)\n",
            "  adding: content/logs/1-conv-64-nodes-0-dense-1565771722/events.out.tfevents.1565771723.0888da7e2f79.profile-empty (deflated 5%)\n",
            "  adding: content/logs/1-conv-64-nodes-0-dense-1565771722/plugins/ (stored 0%)\n",
            "  adding: content/logs/1-conv-64-nodes-0-dense-1565771722/plugins/profile/ (stored 0%)\n",
            "  adding: content/logs/1-conv-64-nodes-0-dense-1565771722/plugins/profile/2019-08-14_08-35-23/ (stored 0%)\n",
            "  adding: content/logs/1-conv-64-nodes-0-dense-1565771722/plugins/profile/2019-08-14_08-35-23/local.trace (deflated 87%)\n",
            "  adding: content/logs/3-conv-128-nodes-1-dense-1565775859/ (stored 0%)\n",
            "  adding: content/logs/3-conv-128-nodes-1-dense-1565775859/events.out.tfevents.1565775862.0888da7e2f79.profile-empty (deflated 5%)\n",
            "  adding: content/logs/3-conv-128-nodes-1-dense-1565775859/events.out.tfevents.1565775860.0888da7e2f79 (deflated 90%)\n",
            "  adding: content/logs/3-conv-128-nodes-1-dense-1565775859/plugins/ (stored 0%)\n",
            "  adding: content/logs/3-conv-128-nodes-1-dense-1565775859/plugins/profile/ (stored 0%)\n",
            "  adding: content/logs/3-conv-128-nodes-1-dense-1565775859/plugins/profile/2019-08-14_09-44-22/ (stored 0%)\n",
            "  adding: content/logs/3-conv-128-nodes-1-dense-1565775859/plugins/profile/2019-08-14_09-44-22/local.trace (deflated 90%)\n",
            "  adding: content/logs/3-conv-32-nodes-2-dense-1565776647/ (stored 0%)\n",
            "  adding: content/logs/3-conv-32-nodes-2-dense-1565776647/events.out.tfevents.1565776651.0888da7e2f79.profile-empty (deflated 5%)\n",
            "  adding: content/logs/3-conv-32-nodes-2-dense-1565776647/events.out.tfevents.1565776648.0888da7e2f79 (deflated 90%)\n",
            "  adding: content/logs/3-conv-32-nodes-2-dense-1565776647/plugins/ (stored 0%)\n",
            "  adding: content/logs/3-conv-32-nodes-2-dense-1565776647/plugins/profile/ (stored 0%)\n",
            "  adding: content/logs/3-conv-32-nodes-2-dense-1565776647/plugins/profile/2019-08-14_09-57-31/ (stored 0%)\n",
            "  adding: content/logs/3-conv-32-nodes-2-dense-1565776647/plugins/profile/2019-08-14_09-57-31/local.trace (deflated 90%)\n",
            "  adding: content/logs/2-conv-32-nodes-0-dense-1565771432/ (stored 0%)\n",
            "  adding: content/logs/2-conv-32-nodes-0-dense-1565771432/events.out.tfevents.1565771433.0888da7e2f79.profile-empty (deflated 5%)\n",
            "  adding: content/logs/2-conv-32-nodes-0-dense-1565771432/plugins/ (stored 0%)\n",
            "  adding: content/logs/2-conv-32-nodes-0-dense-1565771432/plugins/profile/ (stored 0%)\n",
            "  adding: content/logs/2-conv-32-nodes-0-dense-1565771432/plugins/profile/2019-08-14_08-30-33/ (stored 0%)\n",
            "  adding: content/logs/2-conv-32-nodes-0-dense-1565771432/plugins/profile/2019-08-14_08-30-33/local.trace (deflated 88%)\n",
            "  adding: content/logs/2-conv-32-nodes-0-dense-1565771432/events.out.tfevents.1565771433.0888da7e2f79 (deflated 89%)\n",
            "  adding: content/logs/2-conv-32-nodes-2-dense-1565776501/ (stored 0%)\n",
            "  adding: content/logs/2-conv-32-nodes-2-dense-1565776501/events.out.tfevents.1565776502.0888da7e2f79 (deflated 90%)\n",
            "  adding: content/logs/2-conv-32-nodes-2-dense-1565776501/events.out.tfevents.1565776504.0888da7e2f79.profile-empty (deflated 8%)\n",
            "  adding: content/logs/2-conv-32-nodes-2-dense-1565776501/plugins/ (stored 0%)\n",
            "  adding: content/logs/2-conv-32-nodes-2-dense-1565776501/plugins/profile/ (stored 0%)\n",
            "  adding: content/logs/2-conv-32-nodes-2-dense-1565776501/plugins/profile/2019-08-14_09-55-04/ (stored 0%)\n",
            "  adding: content/logs/2-conv-32-nodes-2-dense-1565776501/plugins/profile/2019-08-14_09-55-04/local.trace (deflated 89%)\n",
            "  adding: content/logs/1-conv-64-nodes-1-dense-1565774142/ (stored 0%)\n",
            "  adding: content/logs/1-conv-64-nodes-1-dense-1565774142/events.out.tfevents.1565774143.0888da7e2f79 (deflated 89%)\n",
            "  adding: content/logs/1-conv-64-nodes-1-dense-1565774142/plugins/ (stored 0%)\n",
            "  adding: content/logs/1-conv-64-nodes-1-dense-1565774142/plugins/profile/ (stored 0%)\n",
            "  adding: content/logs/1-conv-64-nodes-1-dense-1565774142/plugins/profile/2019-08-14_09-15-45/ (stored 0%)\n",
            "  adding: content/logs/1-conv-64-nodes-1-dense-1565774142/plugins/profile/2019-08-14_09-15-45/local.trace (deflated 89%)\n",
            "  adding: content/logs/1-conv-64-nodes-1-dense-1565774142/events.out.tfevents.1565774145.0888da7e2f79.profile-empty (deflated 5%)\n",
            "  adding: content/logs/3-conv-32-nodes-1-dense-1565773989/ (stored 0%)\n",
            "  adding: content/logs/3-conv-32-nodes-1-dense-1565773989/events.out.tfevents.1565773991.0888da7e2f79.profile-empty (deflated 5%)\n",
            "  adding: content/logs/3-conv-32-nodes-1-dense-1565773989/plugins/ (stored 0%)\n",
            "  adding: content/logs/3-conv-32-nodes-1-dense-1565773989/plugins/profile/ (stored 0%)\n",
            "  adding: content/logs/3-conv-32-nodes-1-dense-1565773989/plugins/profile/2019-08-14_09-13-11/ (stored 0%)\n",
            "  adding: content/logs/3-conv-32-nodes-1-dense-1565773989/plugins/profile/2019-08-14_09-13-11/local.trace (deflated 90%)\n",
            "  adding: content/logs/3-conv-32-nodes-1-dense-1565773989/events.out.tfevents.1565773989.0888da7e2f79 (deflated 89%)\n",
            "  adding: content/logs/3-conv-64-nodes-1-dense-1565774597/ (stored 0%)\n",
            "  adding: content/logs/3-conv-64-nodes-1-dense-1565774597/events.out.tfevents.1565774599.0888da7e2f79.profile-empty (deflated 5%)\n",
            "  adding: content/logs/3-conv-64-nodes-1-dense-1565774597/events.out.tfevents.1565774597.0888da7e2f79 (deflated 90%)\n",
            "  adding: content/logs/3-conv-64-nodes-1-dense-1565774597/plugins/ (stored 0%)\n",
            "  adding: content/logs/3-conv-64-nodes-1-dense-1565774597/plugins/profile/ (stored 0%)\n",
            "  adding: content/logs/3-conv-64-nodes-1-dense-1565774597/plugins/profile/2019-08-14_09-23-19/ (stored 0%)\n",
            "  adding: content/logs/3-conv-64-nodes-1-dense-1565774597/plugins/profile/2019-08-14_09-23-19/local.trace (deflated 90%)\n",
            "  adding: content/logs/Cats-vs-Dogs-cnn-64x2-1565769904.4542978/ (stored 0%)\n",
            "  adding: content/logs/Cats-vs-Dogs-cnn-64x2-1565769904.4542978/events.out.tfevents.1565769909.0888da7e2f79.profile-empty (deflated 5%)\n",
            "  adding: content/logs/Cats-vs-Dogs-cnn-64x2-1565769904.4542978/events.out.tfevents.1565769907.0888da7e2f79 (deflated 88%)\n",
            "  adding: content/logs/Cats-vs-Dogs-cnn-64x2-1565769904.4542978/plugins/ (stored 0%)\n",
            "  adding: content/logs/Cats-vs-Dogs-cnn-64x2-1565769904.4542978/plugins/profile/ (stored 0%)\n",
            "  adding: content/logs/Cats-vs-Dogs-cnn-64x2-1565769904.4542978/plugins/profile/2019-08-14_08-05-09/ (stored 0%)\n",
            "  adding: content/logs/Cats-vs-Dogs-cnn-64x2-1565769904.4542978/plugins/profile/2019-08-14_08-05-09/local.trace (deflated 89%)\n",
            "  adding: content/logs/1-conv-128-nodes-2-dense-1565777538/ (stored 0%)\n",
            "  adding: content/logs/1-conv-128-nodes-2-dense-1565777538/events.out.tfevents.1565777539.0888da7e2f79 (deflated 90%)\n",
            "  adding: content/logs/1-conv-128-nodes-2-dense-1565777538/events.out.tfevents.1565777542.0888da7e2f79.profile-empty (deflated 5%)\n",
            "  adding: content/logs/1-conv-128-nodes-2-dense-1565777538/plugins/ (stored 0%)\n",
            "  adding: content/logs/1-conv-128-nodes-2-dense-1565777538/plugins/profile/ (stored 0%)\n",
            "  adding: content/logs/1-conv-128-nodes-2-dense-1565777538/plugins/profile/2019-08-14_10-12-22/ (stored 0%)\n",
            "  adding: content/logs/1-conv-128-nodes-2-dense-1565777538/plugins/profile/2019-08-14_10-12-22/local.trace (deflated 90%)\n",
            "  adding: content/logs/1-conv-32-nodes-0-dense-1565771321/ (stored 0%)\n",
            "  adding: content/logs/1-conv-32-nodes-0-dense-1565771321/events.out.tfevents.1565771321.0888da7e2f79 (deflated 88%)\n",
            "  adding: content/logs/1-conv-32-nodes-0-dense-1565771321/events.out.tfevents.1565771322.0888da7e2f79.profile-empty (deflated 5%)\n",
            "  adding: content/logs/1-conv-32-nodes-0-dense-1565771321/plugins/ (stored 0%)\n",
            "  adding: content/logs/1-conv-32-nodes-0-dense-1565771321/plugins/profile/ (stored 0%)\n",
            "  adding: content/logs/1-conv-32-nodes-0-dense-1565771321/plugins/profile/2019-08-14_08-28-42/ (stored 0%)\n",
            "  adding: content/logs/1-conv-32-nodes-0-dense-1565771321/plugins/profile/2019-08-14_08-28-42/local.trace (deflated 87%)\n",
            "  adding: content/logs/1-conv-32-nodes-2-dense-1565776379/ (stored 0%)\n",
            "  adding: content/logs/1-conv-32-nodes-2-dense-1565776379/events.out.tfevents.1565776382.0888da7e2f79.profile-empty (deflated 5%)\n",
            "  adding: content/logs/1-conv-32-nodes-2-dense-1565776379/events.out.tfevents.1565776380.0888da7e2f79 (deflated 90%)\n",
            "  adding: content/logs/1-conv-32-nodes-2-dense-1565776379/plugins/ (stored 0%)\n",
            "  adding: content/logs/1-conv-32-nodes-2-dense-1565776379/plugins/profile/ (stored 0%)\n",
            "  adding: content/logs/1-conv-32-nodes-2-dense-1565776379/plugins/profile/2019-08-14_09-53-02/ (stored 0%)\n",
            "  adding: content/logs/1-conv-32-nodes-2-dense-1565776379/plugins/profile/2019-08-14_09-53-02/local.trace (deflated 89%)\n",
            "  adding: content/logs/3-conv-32-nodes-0-dense-1565771573/ (stored 0%)\n",
            "  adding: content/logs/3-conv-32-nodes-0-dense-1565771573/events.out.tfevents.1565771574.0888da7e2f79.profile-empty (deflated 5%)\n",
            "  adding: content/logs/3-conv-32-nodes-0-dense-1565771573/plugins/ (stored 0%)\n",
            "  adding: content/logs/3-conv-32-nodes-0-dense-1565771573/plugins/profile/ (stored 0%)\n",
            "  adding: content/logs/3-conv-32-nodes-0-dense-1565771573/plugins/profile/2019-08-14_08-32-54/ (stored 0%)\n",
            "  adding: content/logs/3-conv-32-nodes-0-dense-1565771573/plugins/profile/2019-08-14_08-32-54/local.trace (deflated 89%)\n",
            "  adding: content/logs/3-conv-32-nodes-0-dense-1565771573/events.out.tfevents.1565771574.0888da7e2f79 (deflated 89%)\n",
            "  adding: content/logs/2-conv-64-nodes-0-dense-1565771898/ (stored 0%)\n",
            "  adding: content/logs/2-conv-64-nodes-0-dense-1565771898/events.out.tfevents.1565771899.0888da7e2f79.profile-empty (deflated 5%)\n",
            "  adding: content/logs/2-conv-64-nodes-0-dense-1565771898/events.out.tfevents.1565771898.0888da7e2f79 (deflated 89%)\n",
            "  adding: content/logs/2-conv-64-nodes-0-dense-1565771898/plugins/ (stored 0%)\n",
            "  adding: content/logs/2-conv-64-nodes-0-dense-1565771898/plugins/profile/ (stored 0%)\n",
            "  adding: content/logs/2-conv-64-nodes-0-dense-1565771898/plugins/profile/2019-08-14_08-38-19/ (stored 0%)\n",
            "  adding: content/logs/2-conv-64-nodes-0-dense-1565771898/plugins/profile/2019-08-14_08-38-19/local.trace (deflated 89%)\n",
            "  adding: content/logs/Cats-vs-Dogs-cnn-64x2-1565768196.3886971/ (stored 0%)\n",
            "  adding: content/logs/Cats-vs-Dogs-cnn-64x2-1565768196.3886971/events.out.tfevents.1565768198.0888da7e2f79 (deflated 89%)\n",
            "  adding: content/logs/Cats-vs-Dogs-cnn-64x2-1565768196.3886971/plugins/ (stored 0%)\n",
            "  adding: content/logs/Cats-vs-Dogs-cnn-64x2-1565768196.3886971/plugins/profile/ (stored 0%)\n",
            "  adding: content/logs/Cats-vs-Dogs-cnn-64x2-1565768196.3886971/plugins/profile/2019-08-14_07-36-38/ (stored 0%)\n",
            "  adding: content/logs/Cats-vs-Dogs-cnn-64x2-1565768196.3886971/plugins/profile/2019-08-14_07-36-38/local.trace (deflated 89%)\n",
            "  adding: content/logs/Cats-vs-Dogs-cnn-64x2-1565768196.3886971/events.out.tfevents.1565768198.0888da7e2f79.profile-empty (deflated 5%)\n",
            "  adding: content/logs/1-conv-64-nodes-2-dense-1565776802/ (stored 0%)\n",
            "  adding: content/logs/1-conv-64-nodes-2-dense-1565776802/events.out.tfevents.1565776803.0888da7e2f79 (deflated 90%)\n",
            "  adding: content/logs/1-conv-64-nodes-2-dense-1565776802/events.out.tfevents.1565776805.0888da7e2f79.profile-empty (deflated 5%)\n",
            "  adding: content/logs/1-conv-64-nodes-2-dense-1565776802/plugins/ (stored 0%)\n",
            "  adding: content/logs/1-conv-64-nodes-2-dense-1565776802/plugins/profile/ (stored 0%)\n",
            "  adding: content/logs/1-conv-64-nodes-2-dense-1565776802/plugins/profile/2019-08-14_10-00-05/ (stored 0%)\n",
            "  adding: content/logs/1-conv-64-nodes-2-dense-1565776802/plugins/profile/2019-08-14_10-00-05/local.trace (deflated 89%)\n",
            "  adding: content/logs/3-conv-128-nodes-2-dense-1565778527/ (stored 0%)\n",
            "  adding: content/logs/3-conv-128-nodes-2-dense-1565778527/events.out.tfevents.1565778529.0888da7e2f79 (deflated 90%)\n",
            "  adding: content/logs/3-conv-128-nodes-2-dense-1565778527/events.out.tfevents.1565778532.0888da7e2f79.profile-empty (deflated 8%)\n",
            "  adding: content/logs/3-conv-128-nodes-2-dense-1565778527/plugins/ (stored 0%)\n",
            "  adding: content/logs/3-conv-128-nodes-2-dense-1565778527/plugins/profile/ (stored 0%)\n",
            "  adding: content/logs/3-conv-128-nodes-2-dense-1565778527/plugins/profile/2019-08-14_10-28-52/ (stored 0%)\n",
            "  adding: content/logs/3-conv-128-nodes-2-dense-1565778527/plugins/profile/2019-08-14_10-28-52/local.trace (deflated 90%)\n",
            "  adding: content/logs/2-conv-128-nodes-0-dense-1565772715/ (stored 0%)\n",
            "  adding: content/logs/2-conv-128-nodes-0-dense-1565772715/events.out.tfevents.1565772716.0888da7e2f79 (deflated 89%)\n",
            "  adding: content/logs/2-conv-128-nodes-0-dense-1565772715/events.out.tfevents.1565772717.0888da7e2f79.profile-empty (deflated 5%)\n",
            "  adding: content/logs/2-conv-128-nodes-0-dense-1565772715/plugins/ (stored 0%)\n",
            "  adding: content/logs/2-conv-128-nodes-0-dense-1565772715/plugins/profile/ (stored 0%)\n",
            "  adding: content/logs/2-conv-128-nodes-0-dense-1565772715/plugins/profile/2019-08-14_08-51-57/ (stored 0%)\n",
            "  adding: content/logs/2-conv-128-nodes-0-dense-1565772715/plugins/profile/2019-08-14_08-51-57/local.trace (deflated 89%)\n",
            "  adding: content/logs/1-conv-128-nodes-1-dense-1565774861/ (stored 0%)\n",
            "  adding: content/logs/1-conv-128-nodes-1-dense-1565774861/events.out.tfevents.1565774865.0888da7e2f79.profile-empty (deflated 5%)\n",
            "  adding: content/logs/1-conv-128-nodes-1-dense-1565774861/plugins/ (stored 0%)\n",
            "  adding: content/logs/1-conv-128-nodes-1-dense-1565774861/plugins/profile/ (stored 0%)\n",
            "  adding: content/logs/1-conv-128-nodes-1-dense-1565774861/plugins/profile/2019-08-14_09-27-45/ (stored 0%)\n",
            "  adding: content/logs/1-conv-128-nodes-1-dense-1565774861/plugins/profile/2019-08-14_09-27-45/local.trace (deflated 90%)\n",
            "  adding: content/logs/1-conv-128-nodes-1-dense-1565774861/events.out.tfevents.1565774862.0888da7e2f79 (deflated 90%)\n",
            "  adding: content/logs/1-conv-128-nodes-0-dense-1565772398/ (stored 0%)\n",
            "  adding: content/logs/1-conv-128-nodes-0-dense-1565772398/events.out.tfevents.1565772399.0888da7e2f79.profile-empty (deflated 5%)\n",
            "  adding: content/logs/1-conv-128-nodes-0-dense-1565772398/plugins/ (stored 0%)\n",
            "  adding: content/logs/1-conv-128-nodes-0-dense-1565772398/plugins/profile/ (stored 0%)\n",
            "  adding: content/logs/1-conv-128-nodes-0-dense-1565772398/plugins/profile/2019-08-14_08-46-39/ (stored 0%)\n",
            "  adding: content/logs/1-conv-128-nodes-0-dense-1565772398/plugins/profile/2019-08-14_08-46-39/local.trace (deflated 87%)\n",
            "  adding: content/logs/1-conv-128-nodes-0-dense-1565772398/events.out.tfevents.1565772398.0888da7e2f79 (deflated 89%)\n",
            "  adding: content/logs/2-conv-64-nodes-2-dense-1565777013/ (stored 0%)\n",
            "  adding: content/logs/2-conv-64-nodes-2-dense-1565777013/events.out.tfevents.1565777014.0888da7e2f79 (deflated 90%)\n",
            "  adding: content/logs/2-conv-64-nodes-2-dense-1565777013/events.out.tfevents.1565777017.0888da7e2f79.profile-empty (deflated 5%)\n",
            "  adding: content/logs/2-conv-64-nodes-2-dense-1565777013/plugins/ (stored 0%)\n",
            "  adding: content/logs/2-conv-64-nodes-2-dense-1565777013/plugins/profile/ (stored 0%)\n",
            "  adding: content/logs/2-conv-64-nodes-2-dense-1565777013/plugins/profile/2019-08-14_10-03-37/ (stored 0%)\n",
            "  adding: content/logs/2-conv-64-nodes-2-dense-1565777013/plugins/profile/2019-08-14_10-03-37/local.trace (deflated 90%)\n",
            "  adding: content/logs/1-conv-32-nodes-1-dense-1565773721/ (stored 0%)\n",
            "  adding: content/logs/1-conv-32-nodes-1-dense-1565773721/events.out.tfevents.1565773723.0888da7e2f79.profile-empty (deflated 5%)\n",
            "  adding: content/logs/1-conv-32-nodes-1-dense-1565773721/events.out.tfevents.1565773722.0888da7e2f79 (deflated 89%)\n",
            "  adding: content/logs/1-conv-32-nodes-1-dense-1565773721/plugins/ (stored 0%)\n",
            "  adding: content/logs/1-conv-32-nodes-1-dense-1565773721/plugins/profile/ (stored 0%)\n",
            "  adding: content/logs/1-conv-32-nodes-1-dense-1565773721/plugins/profile/2019-08-14_09-08-43/ (stored 0%)\n",
            "  adding: content/logs/1-conv-32-nodes-1-dense-1565773721/plugins/profile/2019-08-14_09-08-43/local.trace (deflated 88%)\n",
            "  adding: content/logs/2-conv-64-nodes-1-dense-1565774349/ (stored 0%)\n",
            "  adding: content/logs/2-conv-64-nodes-1-dense-1565774349/events.out.tfevents.1565774351.0888da7e2f79.profile-empty (deflated 5%)\n",
            "  adding: content/logs/2-conv-64-nodes-1-dense-1565774349/plugins/ (stored 0%)\n",
            "  adding: content/logs/2-conv-64-nodes-1-dense-1565774349/plugins/profile/ (stored 0%)\n",
            "  adding: content/logs/2-conv-64-nodes-1-dense-1565774349/plugins/profile/2019-08-14_09-19-11/ (stored 0%)\n",
            "  adding: content/logs/2-conv-64-nodes-1-dense-1565774349/plugins/profile/2019-08-14_09-19-11/local.trace (deflated 89%)\n",
            "  adding: content/logs/2-conv-64-nodes-1-dense-1565774349/events.out.tfevents.1565774349.0888da7e2f79 (deflated 90%)\n",
            "  adding: content/logs/2-conv-128-nodes-2-dense-1565778018/ (stored 0%)\n",
            "  adding: content/logs/2-conv-128-nodes-2-dense-1565778018/events.out.tfevents.1565778019.0888da7e2f79 (deflated 90%)\n",
            "  adding: content/logs/2-conv-128-nodes-2-dense-1565778018/events.out.tfevents.1565778022.0888da7e2f79.profile-empty (deflated 5%)\n",
            "  adding: content/logs/2-conv-128-nodes-2-dense-1565778018/plugins/ (stored 0%)\n",
            "  adding: content/logs/2-conv-128-nodes-2-dense-1565778018/plugins/profile/ (stored 0%)\n",
            "  adding: content/logs/2-conv-128-nodes-2-dense-1565778018/plugins/profile/2019-08-14_10-20-22/ (stored 0%)\n",
            "  adding: content/logs/2-conv-128-nodes-2-dense-1565778018/plugins/profile/2019-08-14_10-20-22/local.trace (deflated 90%)\n"
          ],
          "name": "stdout"
        },
        {
          "output_type": "error",
          "ename": "MessageError",
          "evalue": "ignored",
          "traceback": [
            "\u001b[0;31m---------------------------------------------------------------------------\u001b[0m",
            "\u001b[0;31mMessageError\u001b[0m                              Traceback (most recent call last)",
            "\u001b[0;32m<ipython-input-22-01a154b1cd45>\u001b[0m in \u001b[0;36m<module>\u001b[0;34m()\u001b[0m\n\u001b[1;32m      1\u001b[0m \u001b[0mget_ipython\u001b[0m\u001b[0;34m(\u001b[0m\u001b[0;34m)\u001b[0m\u001b[0;34m.\u001b[0m\u001b[0msystem\u001b[0m\u001b[0;34m(\u001b[0m\u001b[0;34m'zip -r /content/file.zip /content/logs/'\u001b[0m\u001b[0;34m)\u001b[0m\u001b[0;34m\u001b[0m\u001b[0;34m\u001b[0m\u001b[0m\n\u001b[1;32m      2\u001b[0m \u001b[0;32mfrom\u001b[0m \u001b[0mgoogle\u001b[0m\u001b[0;34m.\u001b[0m\u001b[0mcolab\u001b[0m \u001b[0;32mimport\u001b[0m \u001b[0mfiles\u001b[0m\u001b[0;34m\u001b[0m\u001b[0;34m\u001b[0m\u001b[0m\n\u001b[0;32m----> 3\u001b[0;31m \u001b[0mfiles\u001b[0m\u001b[0;34m.\u001b[0m\u001b[0mdownload\u001b[0m\u001b[0;34m(\u001b[0m\u001b[0;34m\"/content/file.zip\"\u001b[0m\u001b[0;34m)\u001b[0m\u001b[0;34m\u001b[0m\u001b[0;34m\u001b[0m\u001b[0m\n\u001b[0m",
            "\u001b[0;32m/usr/local/lib/python3.6/dist-packages/google/colab/files.py\u001b[0m in \u001b[0;36mdownload\u001b[0;34m(filename)\u001b[0m\n\u001b[1;32m    176\u001b[0m       \u001b[0;34m'port'\u001b[0m\u001b[0;34m:\u001b[0m \u001b[0mport\u001b[0m\u001b[0;34m,\u001b[0m\u001b[0;34m\u001b[0m\u001b[0;34m\u001b[0m\u001b[0m\n\u001b[1;32m    177\u001b[0m       \u001b[0;34m'path'\u001b[0m\u001b[0;34m:\u001b[0m \u001b[0m_os\u001b[0m\u001b[0;34m.\u001b[0m\u001b[0mpath\u001b[0m\u001b[0;34m.\u001b[0m\u001b[0mabspath\u001b[0m\u001b[0;34m(\u001b[0m\u001b[0mfilename\u001b[0m\u001b[0;34m)\u001b[0m\u001b[0;34m,\u001b[0m\u001b[0;34m\u001b[0m\u001b[0;34m\u001b[0m\u001b[0m\n\u001b[0;32m--> 178\u001b[0;31m       \u001b[0;34m'name'\u001b[0m\u001b[0;34m:\u001b[0m \u001b[0m_os\u001b[0m\u001b[0;34m.\u001b[0m\u001b[0mpath\u001b[0m\u001b[0;34m.\u001b[0m\u001b[0mbasename\u001b[0m\u001b[0;34m(\u001b[0m\u001b[0mfilename\u001b[0m\u001b[0;34m)\u001b[0m\u001b[0;34m,\u001b[0m\u001b[0;34m\u001b[0m\u001b[0;34m\u001b[0m\u001b[0m\n\u001b[0m\u001b[1;32m    179\u001b[0m   })\n",
            "\u001b[0;32m/usr/local/lib/python3.6/dist-packages/google/colab/output/_js.py\u001b[0m in \u001b[0;36meval_js\u001b[0;34m(script, ignore_result)\u001b[0m\n\u001b[1;32m     37\u001b[0m   \u001b[0;32mif\u001b[0m \u001b[0mignore_result\u001b[0m\u001b[0;34m:\u001b[0m\u001b[0;34m\u001b[0m\u001b[0;34m\u001b[0m\u001b[0m\n\u001b[1;32m     38\u001b[0m     \u001b[0;32mreturn\u001b[0m\u001b[0;34m\u001b[0m\u001b[0;34m\u001b[0m\u001b[0m\n\u001b[0;32m---> 39\u001b[0;31m   \u001b[0;32mreturn\u001b[0m \u001b[0m_message\u001b[0m\u001b[0;34m.\u001b[0m\u001b[0mread_reply_from_input\u001b[0m\u001b[0;34m(\u001b[0m\u001b[0mrequest_id\u001b[0m\u001b[0;34m)\u001b[0m\u001b[0;34m\u001b[0m\u001b[0;34m\u001b[0m\u001b[0m\n\u001b[0m\u001b[1;32m     40\u001b[0m \u001b[0;34m\u001b[0m\u001b[0m\n\u001b[1;32m     41\u001b[0m \u001b[0;34m\u001b[0m\u001b[0m\n",
            "\u001b[0;32m/usr/local/lib/python3.6/dist-packages/google/colab/_message.py\u001b[0m in \u001b[0;36mread_reply_from_input\u001b[0;34m(message_id, timeout_sec)\u001b[0m\n\u001b[1;32m    104\u001b[0m         reply.get('colab_msg_id') == message_id):\n\u001b[1;32m    105\u001b[0m       \u001b[0;32mif\u001b[0m \u001b[0;34m'error'\u001b[0m \u001b[0;32min\u001b[0m \u001b[0mreply\u001b[0m\u001b[0;34m:\u001b[0m\u001b[0;34m\u001b[0m\u001b[0;34m\u001b[0m\u001b[0m\n\u001b[0;32m--> 106\u001b[0;31m         \u001b[0;32mraise\u001b[0m \u001b[0mMessageError\u001b[0m\u001b[0;34m(\u001b[0m\u001b[0mreply\u001b[0m\u001b[0;34m[\u001b[0m\u001b[0;34m'error'\u001b[0m\u001b[0;34m]\u001b[0m\u001b[0;34m)\u001b[0m\u001b[0;34m\u001b[0m\u001b[0;34m\u001b[0m\u001b[0m\n\u001b[0m\u001b[1;32m    107\u001b[0m       \u001b[0;32mreturn\u001b[0m \u001b[0mreply\u001b[0m\u001b[0;34m.\u001b[0m\u001b[0mget\u001b[0m\u001b[0;34m(\u001b[0m\u001b[0;34m'data'\u001b[0m\u001b[0;34m,\u001b[0m \u001b[0;32mNone\u001b[0m\u001b[0;34m)\u001b[0m\u001b[0;34m\u001b[0m\u001b[0;34m\u001b[0m\u001b[0m\n\u001b[1;32m    108\u001b[0m \u001b[0;34m\u001b[0m\u001b[0m\n",
            "\u001b[0;31mMessageError\u001b[0m: TypeError: NetworkError when attempting to fetch resource."
          ]
        }
      ]
    },
    {
      "cell_type": "code",
      "metadata": {
        "id": "nTAkIEXvuIp0",
        "colab_type": "code",
        "colab": {
          "base_uri": "https://localhost:8080/",
          "height": 419
        },
        "outputId": "b7d26976-8c19-436d-de60-b9ba8773b5c9"
      },
      "source": [
        "import tensorflow as tf\n",
        "from tensorflow.keras.datasets import cifar10\n",
        "from tensorflow.keras.preprocessing.image import ImageDataGenerator\n",
        "from tensorflow.keras.models import Sequential\n",
        "from tensorflow.keras.layers import Dense, Dropout, Activation, Flatten\n",
        "from tensorflow.keras.layers import Conv2D, MaxPooling2D\n",
        "from tensorflow.keras.callbacks import TensorBoard\n",
        "import pickle\n",
        "import time\n",
        "\n",
        "\n",
        "\n",
        "# we separate memory for few sessions\n",
        "gpu_options = tf.GPUOptions(per_process_gpu_memory_fraction=0.333)\n",
        "sess = tf.Session(config=tf.ConfigProto(gpu_options=gpu_options))\n",
        "\n",
        "# load data from pickle files\n",
        "X = pickle.load(open('X.pickle', 'rb'))\n",
        "y = pickle.load(open('y.pickle', 'rb'))\n",
        "\n",
        "# normalize our data\n",
        "# 255 is maximum value for pixel data\n",
        "X = X / 255.0\n",
        "\n",
        "# we found the best options for our model\n",
        "dense_layers = [0]\n",
        "layer_sizes = [64]\n",
        "conv_layers = [3]\n",
        "\n",
        "for dense_layer in dense_layers:\n",
        "  for layer_size in layer_sizes:\n",
        "    for conv_layer in conv_layers:\n",
        "      NAME = '{}-conv-{}-nodes-{}-dense-{}'.format(conv_layer, \n",
        "                                                   layer_size, \n",
        "                                                   dense_layer,\n",
        "                                                   int(time.time()))\n",
        "      tensorboard = TensorBoard(log_dir='logs/{}'.format(NAME))      \n",
        "\n",
        "      # initialize our model\n",
        "      model = Sequential()\n",
        "      # add layers to our model\n",
        "      model.add(Conv2D(layer_size, (3, 3), input_shape = X.shape[1:]))\n",
        "      model.add(Activation('relu'))\n",
        "      model.add(MaxPooling2D(pool_size=(2, 2)))\n",
        "      \n",
        "      for l in range(conv_layer - 1):\n",
        "        \n",
        "        model.add(Conv2D(layer_size, (3, 3)))\n",
        "        model.add(Activation('relu'))\n",
        "        model.add(MaxPooling2D(pool_size=(2, 2)))\n",
        "        \n",
        "      model.add(Flatten())  \n",
        "      for l in range(dense_layer):\n",
        "        model.add(Dense(layer_size))\n",
        "        model.add(Activation('relu'))\n",
        "        model.add(Dropout(0.2))\n",
        "\n",
        "\n",
        "\n",
        "      model.add(Dense(1))\n",
        "      model.add(Activation('sigmoid'))\n",
        "\n",
        "      model.compile(loss='binary_crossentropy',\n",
        "                   optimizer='adam',\n",
        "                   metrics=['accuracy'])\n",
        "\n",
        "      model.fit(X, y, batch_size=32, epochs=10, validation_split=0.3, callbacks=[tensorboard])"
      ],
      "execution_count": 23,
      "outputs": [
        {
          "output_type": "stream",
          "text": [
            "Train on 17462 samples, validate on 7484 samples\n",
            "Epoch 1/10\n",
            "17462/17462 [==============================] - 27s 2ms/sample - loss: 0.6219 - acc: 0.6413 - val_loss: 0.5434 - val_acc: 0.7198\n",
            "Epoch 2/10\n",
            "17462/17462 [==============================] - 25s 1ms/sample - loss: 0.5086 - acc: 0.7521 - val_loss: 0.4791 - val_acc: 0.7771\n",
            "Epoch 3/10\n",
            "17462/17462 [==============================] - 25s 1ms/sample - loss: 0.4459 - acc: 0.7925 - val_loss: 0.4483 - val_acc: 0.7937\n",
            "Epoch 4/10\n",
            "17462/17462 [==============================] - 26s 1ms/sample - loss: 0.4048 - acc: 0.8143 - val_loss: 0.4349 - val_acc: 0.8016\n",
            "Epoch 5/10\n",
            "17462/17462 [==============================] - 26s 1ms/sample - loss: 0.3704 - acc: 0.8356 - val_loss: 0.3899 - val_acc: 0.8236\n",
            "Epoch 6/10\n",
            "17462/17462 [==============================] - 26s 1ms/sample - loss: 0.3372 - acc: 0.8529 - val_loss: 0.3851 - val_acc: 0.8314\n",
            "Epoch 7/10\n",
            "17462/17462 [==============================] - 26s 1ms/sample - loss: 0.3101 - acc: 0.8661 - val_loss: 0.3715 - val_acc: 0.8371\n",
            "Epoch 8/10\n",
            "17462/17462 [==============================] - 26s 1ms/sample - loss: 0.2790 - acc: 0.8789 - val_loss: 0.3780 - val_acc: 0.8390\n",
            "Epoch 9/10\n",
            "17462/17462 [==============================] - 26s 1ms/sample - loss: 0.2581 - acc: 0.8903 - val_loss: 0.3538 - val_acc: 0.8449\n",
            "Epoch 10/10\n",
            "17462/17462 [==============================] - 25s 1ms/sample - loss: 0.2264 - acc: 0.9057 - val_loss: 0.3631 - val_acc: 0.8455\n"
          ],
          "name": "stdout"
        }
      ]
    },
    {
      "cell_type": "code",
      "metadata": {
        "id": "ifEbH5n8-Et0",
        "colab_type": "code",
        "colab": {}
      },
      "source": [
        ""
      ],
      "execution_count": 0,
      "outputs": []
    },
    {
      "cell_type": "code",
      "metadata": {
        "id": "1NcTwWYY-Eod",
        "colab_type": "code",
        "colab": {}
      },
      "source": [
        ""
      ],
      "execution_count": 0,
      "outputs": []
    },
    {
      "cell_type": "code",
      "metadata": {
        "id": "J56Ngq21-Ek9",
        "colab_type": "code",
        "colab": {}
      },
      "source": [
        ""
      ],
      "execution_count": 0,
      "outputs": []
    },
    {
      "cell_type": "code",
      "metadata": {
        "id": "Ee0I7hBe-Efl",
        "colab_type": "code",
        "colab": {}
      },
      "source": [
        ""
      ],
      "execution_count": 0,
      "outputs": []
    },
    {
      "cell_type": "code",
      "metadata": {
        "id": "4U2haudx-EWe",
        "colab_type": "code",
        "colab": {}
      },
      "source": [
        ""
      ],
      "execution_count": 0,
      "outputs": []
    }
  ]
}