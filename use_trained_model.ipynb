{
  "nbformat": 4,
  "nbformat_minor": 0,
  "metadata": {
    "colab": {
      "name": "use_trainde_model.ipynb",
      "version": "0.3.2",
      "provenance": []
    },
    "kernelspec": {
      "name": "python3",
      "display_name": "Python 3"
    },
    "accelerator": "GPU"
  },
  "cells": [
    {
      "cell_type": "code",
      "metadata": {
        "id": "a8mciGhOELBK",
        "colab_type": "code",
        "colab": {
          "base_uri": "https://localhost:8080/",
          "height": 128
        },
        "outputId": "743a046a-db2c-4c80-ef93-f71538584c0e"
      },
      "source": [
        "from google.colab import drive\n",
        "drive.mount('/content/drive')"
      ],
      "execution_count": 2,
      "outputs": [
        {
          "output_type": "stream",
          "text": [
            "Go to this URL in a browser: https://accounts.google.com/o/oauth2/auth?client_id=947318989803-6bn6qk8qdgf4n4g3pfee6491hc0brc4i.apps.googleusercontent.com&redirect_uri=urn%3Aietf%3Awg%3Aoauth%3A2.0%3Aoob&scope=email%20https%3A%2F%2Fwww.googleapis.com%2Fauth%2Fdocs.test%20https%3A%2F%2Fwww.googleapis.com%2Fauth%2Fdrive%20https%3A%2F%2Fwww.googleapis.com%2Fauth%2Fdrive.photos.readonly%20https%3A%2F%2Fwww.googleapis.com%2Fauth%2Fpeopleapi.readonly&response_type=code\n",
            "\n",
            "Enter your authorization code:\n",
            "··········\n",
            "Mounted at /content/drive\n"
          ],
          "name": "stdout"
        }
      ]
    },
    {
      "cell_type": "code",
      "metadata": {
        "id": "HPPn38aGEVID",
        "colab_type": "code",
        "colab": {}
      },
      "source": [
        "!cp drive/'My Drive'/'Colab Notebooks'/X.pickle .\n",
        "!cp drive/'My Drive'/'Colab Notebooks'/y.pickle ."
      ],
      "execution_count": 0,
      "outputs": []
    },
    {
      "cell_type": "code",
      "metadata": {
        "id": "f2kEmhQeEVNu",
        "colab_type": "code",
        "colab": {
          "base_uri": "https://localhost:8080/",
          "height": 564
        },
        "outputId": "300ba558-7e6e-4116-8ebe-629c0021365f"
      },
      "source": [
        "import tensorflow as tf\n",
        "from tensorflow.keras.datasets import cifar10\n",
        "from tensorflow.keras.preprocessing.image import ImageDataGenerator\n",
        "from tensorflow.keras.models import Sequential\n",
        "from tensorflow.keras.layers import Dense, Dropout, Activation, Flatten\n",
        "from tensorflow.keras.layers import Conv2D, MaxPooling2D\n",
        "from tensorflow.keras.callbacks import TensorBoard\n",
        "import pickle\n",
        "import time\n",
        "\n",
        "\n",
        "\n",
        "# we separate memory for few sessions\n",
        "gpu_options = tf.GPUOptions(per_process_gpu_memory_fraction=0.333)\n",
        "sess = tf.Session(config=tf.ConfigProto(gpu_options=gpu_options))\n",
        "\n",
        "# load data from pickle files\n",
        "X = pickle.load(open('X.pickle', 'rb'))\n",
        "y = pickle.load(open('y.pickle', 'rb'))\n",
        "\n",
        "# normalize our data\n",
        "# 255 is maximum value for pixel data\n",
        "X = X / 255.0\n",
        "\n",
        "# we found the best options for our model\n",
        "dense_layers = [0]\n",
        "layer_sizes = [64]\n",
        "conv_layers = [3]\n",
        "\n",
        "for dense_layer in dense_layers:\n",
        "  for layer_size in layer_sizes:\n",
        "    for conv_layer in conv_layers:\n",
        "      NAME = '{}-conv-{}-nodes-{}-dense-{}'.format(conv_layer, \n",
        "                                                   layer_size, \n",
        "                                                   dense_layer,\n",
        "                                                   int(time.time()))\n",
        "      tensorboard = TensorBoard(log_dir='logs/{}'.format(NAME))      \n",
        "\n",
        "      # initialize our model\n",
        "      model = Sequential()\n",
        "      # add layers to our model\n",
        "      model.add(Conv2D(layer_size, (3, 3), input_shape = X.shape[1:]))\n",
        "      model.add(Activation('relu'))\n",
        "      model.add(MaxPooling2D(pool_size=(2, 2)))\n",
        "      \n",
        "      for l in range(conv_layer - 1):\n",
        "        \n",
        "        model.add(Conv2D(layer_size, (3, 3)))\n",
        "        model.add(Activation('relu'))\n",
        "        model.add(MaxPooling2D(pool_size=(2, 2)))\n",
        "        \n",
        "      model.add(Flatten())  \n",
        "      for l in range(dense_layer):\n",
        "        model.add(Dense(layer_size))\n",
        "        model.add(Activation('relu'))\n",
        "\n",
        "      model.add(Dense(1))\n",
        "      model.add(Activation('sigmoid'))\n",
        "\n",
        "      model.compile(loss='binary_crossentropy',\n",
        "                   optimizer='adam',\n",
        "                   metrics=['accuracy'])\n",
        "\n",
        "      model.fit(X, y, \n",
        "                batch_size=32, \n",
        "                epochs=10, \n",
        "                validation_split=0.3, \n",
        "                callbacks=[tensorboard])\n",
        "\n",
        "model.save('64x3-CNN.model')"
      ],
      "execution_count": 1,
      "outputs": [
        {
          "output_type": "stream",
          "text": [
            "WARNING: Logging before flag parsing goes to stderr.\n",
            "W0814 12:25:42.279183 140607164110720 deprecation.py:506] From /usr/local/lib/python3.6/dist-packages/tensorflow/python/ops/init_ops.py:1251: calling VarianceScaling.__init__ (from tensorflow.python.ops.init_ops) with dtype is deprecated and will be removed in a future version.\n",
            "Instructions for updating:\n",
            "Call initializer instance with the dtype argument instead of passing it to the constructor\n",
            "W0814 12:25:42.446387 140607164110720 deprecation.py:323] From /usr/local/lib/python3.6/dist-packages/tensorflow/python/ops/nn_impl.py:180: add_dispatch_support.<locals>.wrapper (from tensorflow.python.ops.array_ops) is deprecated and will be removed in a future version.\n",
            "Instructions for updating:\n",
            "Use tf.where in 2.0, which has the same broadcast rule as np.where\n"
          ],
          "name": "stderr"
        },
        {
          "output_type": "stream",
          "text": [
            "Train on 17462 samples, validate on 7484 samples\n",
            "Epoch 1/10\n",
            "   32/17462 [..............................] - ETA: 17:30 - loss: 0.7116 - acc: 0.4062"
          ],
          "name": "stdout"
        },
        {
          "output_type": "stream",
          "text": [
            "W0814 12:25:45.434952 140607164110720 callbacks.py:257] Method (on_train_batch_end) is slow compared to the batch update (0.171161). Check your callbacks.\n"
          ],
          "name": "stderr"
        },
        {
          "output_type": "stream",
          "text": [
            "17462/17462 [==============================] - 27s 2ms/sample - loss: 0.6384 - acc: 0.6248 - val_loss: 0.5657 - val_acc: 0.7092\n",
            "Epoch 2/10\n",
            "17462/17462 [==============================] - 25s 1ms/sample - loss: 0.5141 - acc: 0.7484 - val_loss: 0.4923 - val_acc: 0.7692\n",
            "Epoch 3/10\n",
            "17462/17462 [==============================] - 25s 1ms/sample - loss: 0.4476 - acc: 0.7900 - val_loss: 0.4430 - val_acc: 0.7964\n",
            "Epoch 4/10\n",
            "17462/17462 [==============================] - 25s 1ms/sample - loss: 0.3982 - acc: 0.8191 - val_loss: 0.4109 - val_acc: 0.8157\n",
            "Epoch 5/10\n",
            "17462/17462 [==============================] - 25s 1ms/sample - loss: 0.3603 - acc: 0.8409 - val_loss: 0.3930 - val_acc: 0.8227\n",
            "Epoch 6/10\n",
            "17462/17462 [==============================] - 25s 1ms/sample - loss: 0.3282 - acc: 0.8547 - val_loss: 0.4087 - val_acc: 0.8148\n",
            "Epoch 7/10\n",
            "17462/17462 [==============================] - 25s 1ms/sample - loss: 0.2942 - acc: 0.8726 - val_loss: 0.3649 - val_acc: 0.8401\n",
            "Epoch 8/10\n",
            "17462/17462 [==============================] - 25s 1ms/sample - loss: 0.2583 - acc: 0.8917 - val_loss: 0.4375 - val_acc: 0.8101\n",
            "Epoch 9/10\n",
            "17462/17462 [==============================] - 25s 1ms/sample - loss: 0.2324 - acc: 0.9036 - val_loss: 0.3721 - val_acc: 0.8414\n",
            "Epoch 10/10\n",
            "17462/17462 [==============================] - 25s 1ms/sample - loss: 0.2093 - acc: 0.9130 - val_loss: 0.3922 - val_acc: 0.8359\n"
          ],
          "name": "stdout"
        }
      ]
    },
    {
      "cell_type": "code",
      "metadata": {
        "id": "Q2ll2M3oEVlp",
        "colab_type": "code",
        "colab": {}
      },
      "source": [
        "!cp drive/'My Drive'/'Colab Notebooks'/Data/cat.jpg .\n",
        "!cp drive/'My Drive'/'Colab Notebooks'/Data/dog.jpg ."
      ],
      "execution_count": 0,
      "outputs": []
    },
    {
      "cell_type": "code",
      "metadata": {
        "id": "zbj5AvySEVVd",
        "colab_type": "code",
        "colab": {
          "base_uri": "https://localhost:8080/",
          "height": 35
        },
        "outputId": "27273c85-2460-4efe-fdac-8c41e3893242"
      },
      "source": [
        "import cv2\n",
        "import tensorflow as tf\n",
        "\n",
        "CATEGORIES = ['Dog', 'Cat']\n",
        "\n",
        "def prepare(filepath):\n",
        "    IMG_SIZE = 100\n",
        "    img_array = cv2.imread(filepath, cv2.IMREAD_GRAYSCALE)\n",
        "    new_array = cv2.resize(img_array, (IMG_SIZE, IMG_SIZE))\n",
        "    return new_array.reshape(-1, IMG_SIZE, IMG_SIZE, 1)\n",
        "\n",
        "mode = tf.keras.models.load_model('64x3-CNN.model')\n",
        "\n",
        "prediction = model.predict([prepare('dog.jpg')])\n",
        "\n",
        "print(CATEGORIES[int(prediction[0][0])])"
      ],
      "execution_count": 9,
      "outputs": [
        {
          "output_type": "stream",
          "text": [
            "Dog\n"
          ],
          "name": "stdout"
        }
      ]
    },
    {
      "cell_type": "code",
      "metadata": {
        "id": "XJM3u_XGEV2I",
        "colab_type": "code",
        "colab": {
          "base_uri": "https://localhost:8080/",
          "height": 35
        },
        "outputId": "251851da-d126-4086-99e7-e6771ffe936b"
      },
      "source": [
        "prediction = model.predict([prepare('dog.jpg')])\n",
        "\n",
        "print(CATEGORIES[int(prediction[0][0])])"
      ],
      "execution_count": 13,
      "outputs": [
        {
          "output_type": "stream",
          "text": [
            "Dog\n"
          ],
          "name": "stdout"
        }
      ]
    },
    {
      "cell_type": "code",
      "metadata": {
        "id": "v4puhenAEVxH",
        "colab_type": "code",
        "colab": {
          "base_uri": "https://localhost:8080/",
          "height": 35
        },
        "outputId": "d145fc43-2bed-4cdd-dc75-ee8f43657a3e"
      },
      "source": [
        "prediction = model.predict([prepare('cat.jpg')])\n",
        "\n",
        "print(CATEGORIES[int(prediction[0][0])])"
      ],
      "execution_count": 14,
      "outputs": [
        {
          "output_type": "stream",
          "text": [
            "Cat\n"
          ],
          "name": "stdout"
        }
      ]
    },
    {
      "cell_type": "code",
      "metadata": {
        "id": "mYKP-v1aEVu2",
        "colab_type": "code",
        "colab": {}
      },
      "source": [
        ""
      ],
      "execution_count": 0,
      "outputs": []
    },
    {
      "cell_type": "code",
      "metadata": {
        "id": "S7TdsrfwEVq4",
        "colab_type": "code",
        "colab": {}
      },
      "source": [
        ""
      ],
      "execution_count": 0,
      "outputs": []
    },
    {
      "cell_type": "code",
      "metadata": {
        "id": "ZbPsZgiREVpC",
        "colab_type": "code",
        "colab": {}
      },
      "source": [
        ""
      ],
      "execution_count": 0,
      "outputs": []
    },
    {
      "cell_type": "code",
      "metadata": {
        "id": "mx6X23qyEVSX",
        "colab_type": "code",
        "colab": {}
      },
      "source": [
        ""
      ],
      "execution_count": 0,
      "outputs": []
    },
    {
      "cell_type": "code",
      "metadata": {
        "id": "xiw00xGkEVQS",
        "colab_type": "code",
        "colab": {}
      },
      "source": [
        ""
      ],
      "execution_count": 0,
      "outputs": []
    },
    {
      "cell_type": "code",
      "metadata": {
        "id": "IqYkJJy1EVL5",
        "colab_type": "code",
        "colab": {}
      },
      "source": [
        ""
      ],
      "execution_count": 0,
      "outputs": []
    }
  ]
}