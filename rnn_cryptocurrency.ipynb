{
  "nbformat": 4,
  "nbformat_minor": 0,
  "metadata": {
    "colab": {
      "name": "rnn_cryptocurrency.ipynb",
      "version": "0.3.2",
      "provenance": []
    },
    "kernelspec": {
      "name": "python3",
      "display_name": "Python 3"
    },
    "accelerator": "GPU"
  },
  "cells": [
    {
      "cell_type": "code",
      "metadata": {
        "id": "HVWcYU6MJJQa",
        "colab_type": "code",
        "colab": {
          "base_uri": "https://localhost:8080/",
          "height": 55
        },
        "outputId": "f10c444c-2101-4e04-a62f-9509ea88b506"
      },
      "source": [
        "from google.colab import drive\n",
        "drive.mount('/content/drive')"
      ],
      "execution_count": 6,
      "outputs": [
        {
          "output_type": "stream",
          "text": [
            "Drive already mounted at /content/drive; to attempt to forcibly remount, call drive.mount(\"/content/drive\", force_remount=True).\n"
          ],
          "name": "stdout"
        }
      ]
    },
    {
      "cell_type": "code",
      "metadata": {
        "id": "AA3e4q8wJVjQ",
        "colab_type": "code",
        "colab": {}
      },
      "source": [
        "!cp drive/'My Drive'/'Colab Notebooks'/Data/crypto_data/BTC-USD.csv .\n",
        "!cp drive/'My Drive'/'Colab Notebooks'/Data/crypto_data/BCH-USD.csv .\n",
        "!cp drive/'My Drive'/'Colab Notebooks'/Data/crypto_data/LTC-USD.csv .\n",
        "!cp drive/'My Drive'/'Colab Notebooks'/Data/crypto_data/ETH-USD.csv ."
      ],
      "execution_count": 0,
      "outputs": []
    },
    {
      "cell_type": "code",
      "metadata": {
        "id": "C2V5MsETJX3_",
        "colab_type": "code",
        "colab": {
          "base_uri": "https://localhost:8080/",
          "height": 235
        },
        "outputId": "8a5fb6dd-4a86-4347-bfe4-9d5f7b631c8a"
      },
      "source": [
        "import pandas as pd\n",
        "\n",
        "# we will use last 60 minits of our data to make predictions\n",
        "SEQ_LEN = 60\n",
        "# period in minits\n",
        "FUTURE_PERIOD_PREDICT = 3\n",
        "RATIO_TO_PREDICT = 'LTC-USD'\n",
        "\n",
        "def classify(current, future):\n",
        "    # if the price in the future greater then now return 1\n",
        "    # 1 - is buy\n",
        "    if float(future) > float(current):\n",
        "        return 1\n",
        "    # 0 - is sell\n",
        "    else:\n",
        "        return 0\n",
        "\n",
        "df = pd.read_csv('LTC-USD.csv', \n",
        "                 names=['time', 'low', 'high', 'open', 'close', 'volume'])\n",
        "\n",
        "main_df = pd.DataFrame()\n",
        "\n",
        "ratios = ['BTC-USD', 'LTC-USD', 'ETH-USD', 'BCH-USD']\n",
        "for ratio in ratios:\n",
        "    dataset = f'{ratio}.csv'\n",
        "\n",
        "    df = pd.read_csv(dataset, \n",
        "                     names=['time', 'low', 'high', 'open', 'close', 'volume'])\n",
        "\n",
        "    df.rename(columns={'close' : f'{ratio}_close', \n",
        "                       'volume': f'{ratio}_volume'}, \n",
        "              inplace=True)  \n",
        "\n",
        "    df.set_index('time', inplace=True)\n",
        "    df = df[[f'{ratio}_close', f'{ratio}_volume']]   \n",
        "\n",
        "    if len(main_df) == 0:\n",
        "        main_df = df\n",
        "    else:\n",
        "        main_df = main_df.join(df)\n",
        "\n",
        "main_df['future'] = main_df[f'{RATIO_TO_PREDICT}_close'].shift(-FUTURE_PERIOD_PREDICT)\n",
        "\n",
        "\n",
        "main_df['target'] = list(map(classify, main_df[f'{RATIO_TO_PREDICT}_close'],\n",
        "                             main_df['future']))\n",
        "\n",
        "print(main_df[[f'{RATIO_TO_PREDICT}_close', 'future', 'target']].head(10))\n",
        "\n"
      ],
      "execution_count": 25,
      "outputs": [
        {
          "output_type": "stream",
          "text": [
            "            LTC-USD_close     future  target\n",
            "time                                        \n",
            "1528968660      96.580002  96.500000       0\n",
            "1528968720      96.660004  96.389999       0\n",
            "1528968780      96.570000  96.519997       0\n",
            "1528968840      96.500000  96.440002       0\n",
            "1528968900      96.389999  96.470001       1\n",
            "1528968960      96.519997  96.400002       0\n",
            "1528969020      96.440002  96.400002       0\n",
            "1528969080      96.470001  96.400002       0\n",
            "1528969140      96.400002  96.400002       0\n",
            "1528969200      96.400002  96.400002       0\n"
          ],
          "name": "stdout"
        }
      ]
    },
    {
      "cell_type": "code",
      "metadata": {
        "id": "dgazVkKIJX2V",
        "colab_type": "code",
        "colab": {}
      },
      "source": [
        ""
      ],
      "execution_count": 0,
      "outputs": []
    },
    {
      "cell_type": "code",
      "metadata": {
        "id": "wLTVIlKuJXyg",
        "colab_type": "code",
        "colab": {}
      },
      "source": [
        ""
      ],
      "execution_count": 0,
      "outputs": []
    },
    {
      "cell_type": "code",
      "metadata": {
        "id": "p0KlcWp2JXtC",
        "colab_type": "code",
        "colab": {}
      },
      "source": [
        ""
      ],
      "execution_count": 0,
      "outputs": []
    },
    {
      "cell_type": "code",
      "metadata": {
        "id": "Zh9AYa6-JXrS",
        "colab_type": "code",
        "colab": {}
      },
      "source": [
        ""
      ],
      "execution_count": 0,
      "outputs": []
    },
    {
      "cell_type": "code",
      "metadata": {
        "id": "4yDwgOOEJXpd",
        "colab_type": "code",
        "colab": {}
      },
      "source": [
        ""
      ],
      "execution_count": 0,
      "outputs": []
    },
    {
      "cell_type": "code",
      "metadata": {
        "id": "c3CqekR-JXm8",
        "colab_type": "code",
        "colab": {}
      },
      "source": [
        ""
      ],
      "execution_count": 0,
      "outputs": []
    },
    {
      "cell_type": "code",
      "metadata": {
        "id": "dLyqkvzHJXgR",
        "colab_type": "code",
        "colab": {}
      },
      "source": [
        ""
      ],
      "execution_count": 0,
      "outputs": []
    }
  ]
}